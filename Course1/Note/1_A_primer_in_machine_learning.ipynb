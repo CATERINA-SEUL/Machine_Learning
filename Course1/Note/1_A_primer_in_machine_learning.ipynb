{
 "cells": [
  {
   "cell_type": "markdown",
   "metadata": {},
   "source": [
    "## Week1. A New Programming Paradigm\n",
    "\n",
    "### A primer in machine learning"
   ]
  },
  {
   "cell_type": "markdown",
   "metadata": {},
   "source": [
    "![1](https://user-images.githubusercontent.com/46242120/107301713-5d353d00-6abf-11eb-87be-235eb3c29326.png)"
   ]
  },
  {
   "cell_type": "markdown",
   "metadata": {},
   "source": [
    "![2](https://user-images.githubusercontent.com/46242120/107301719-61f9f100-6abf-11eb-95a8-60a4a1e2025f.png)"
   ]
  },
  {
   "cell_type": "markdown",
   "metadata": {},
   "source": [
    "![4](https://user-images.githubusercontent.com/46242120/107301721-62928780-6abf-11eb-8b27-b8149557c2e0.png)"
   ]
  },
  {
   "cell_type": "markdown",
   "metadata": {},
   "source": [
    "![4](https://user-images.githubusercontent.com/46242120/107301823-95d51680-6abf-11eb-9f14-3aab7239f12d.png)"
   ]
  }
 ],
 "metadata": {
  "kernelspec": {
   "display_name": "Python 3",
   "language": "python",
   "name": "python3"
  },
  "language_info": {
   "codemirror_mode": {
    "name": "ipython",
    "version": 3
   },
   "file_extension": ".py",
   "mimetype": "text/x-python",
   "name": "python",
   "nbconvert_exporter": "python",
   "pygments_lexer": "ipython3",
   "version": "3.7.2"
  }
 },
 "nbformat": 4,
 "nbformat_minor": 4
}
