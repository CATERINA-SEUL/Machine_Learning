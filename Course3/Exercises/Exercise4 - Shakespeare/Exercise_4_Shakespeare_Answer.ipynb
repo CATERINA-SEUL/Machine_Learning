{
 "cells": [
  {
   "cell_type": "code",
   "execution_count": 1,
   "metadata": {
    "id": "BOwsuGQQY9OL"
   },
   "outputs": [],
   "source": [
    "from tensorflow.keras.preprocessing.sequence import pad_sequences\n",
    "from tensorflow.keras.layers import Embedding, LSTM, Dense, Dropout, Bidirectional\n",
    "from tensorflow.keras.preprocessing.text import Tokenizer\n",
    "from tensorflow.keras.models import Sequential\n",
    "from tensorflow.keras.optimizers import Adam\n",
    "### YOUR CODE HERE\n",
    "# Figure out how to import regularizers\n",
    "from tensorflow.keras import regularizers\n",
    "###\n",
    "import tensorflow.keras.utils as ku \n",
    "import numpy as np "
   ]
  },
  {
   "cell_type": "code",
   "execution_count": 2,
   "metadata": {
    "colab": {
     "base_uri": "https://localhost:8080/"
    },
    "id": "PRnDnCW-Z7qv",
    "outputId": "873ad6c1-f5bf-48cc-d3b4-f31a2abc58d7"
   },
   "outputs": [
    {
     "name": "stdout",
     "output_type": "stream",
     "text": [
      "--2021-02-22 15:48:50--  https://storage.googleapis.com/laurencemoroney-blog.appspot.com/sonnets.txt\n",
      "Resolving storage.googleapis.com (storage.googleapis.com)... 34.64.4.48, 34.64.4.112, 34.64.4.16, ...\n",
      "Connecting to storage.googleapis.com (storage.googleapis.com)|34.64.4.48|:443... connected.\n",
      "HTTP request sent, awaiting response... 200 OK\n",
      "Length: 93578 (91K) [text/plain]\n",
      "Saving to: ‘/tmp/sonnets.txt’\n",
      "\n",
      "/tmp/sonnets.txt    100%[===================>]  91.38K  --.-KB/s    in 0.02s   \n",
      "\n",
      "2021-02-22 15:48:51 (5.45 MB/s) - ‘/tmp/sonnets.txt’ saved [93578/93578]\n",
      "\n"
     ]
    }
   ],
   "source": [
    "tokenizer = Tokenizer()\n",
    "!wget --no-check-certificate \\\n",
    "    https://storage.googleapis.com/laurencemoroney-blog.appspot.com/sonnets.txt \\\n",
    "    -O /tmp/sonnets.txt\n",
    "data = open('/tmp/sonnets.txt').read()\n",
    "\n",
    "corpus = data.lower().split(\"\\n\")\n",
    "\n",
    "\n",
    "tokenizer.fit_on_texts(corpus)\n",
    "total_words = len(tokenizer.word_index) + 1\n",
    "\n",
    "# create input sequences using list of tokens\n",
    "input_sequences = []\n",
    "for line in corpus:\n",
    "    token_list = tokenizer.texts_to_sequences([line])[0]\n",
    "    for i in range(1, len(token_list)):\n",
    "        n_gram_sequence = token_list[:i+1]\n",
    "        input_sequences.append(n_gram_sequence)\n",
    "\n",
    "\n",
    "# pad sequences \n",
    "max_sequence_len = max([len(x) for x in input_sequences])\n",
    "input_sequences = np.array(pad_sequences(input_sequences, maxlen=max_sequence_len, padding='pre'))\n",
    "\n",
    "# create predictors and label\n",
    "predictors, label = input_sequences[:,:-1],input_sequences[:,-1]\n",
    "\n",
    "label = ku.to_categorical(label, num_classes=total_words)"
   ]
  },
  {
   "cell_type": "code",
   "execution_count": 3,
   "metadata": {
    "colab": {
     "base_uri": "https://localhost:8080/"
    },
    "id": "w9vH8Y59ajYL",
    "outputId": "64e95416-75e2-4442-a9bf-c8bc09b99e3d"
   },
   "outputs": [
    {
     "name": "stdout",
     "output_type": "stream",
     "text": [
      "Model: \"sequential\"\n",
      "_________________________________________________________________\n",
      "Layer (type)                 Output Shape              Param #   \n",
      "=================================================================\n",
      "embedding (Embedding)        (None, 10, 100)           321100    \n",
      "_________________________________________________________________\n",
      "bidirectional (Bidirectional (None, 10, 300)           301200    \n",
      "_________________________________________________________________\n",
      "dropout (Dropout)            (None, 10, 300)           0         \n",
      "_________________________________________________________________\n",
      "lstm_1 (LSTM)                (None, 100)               160400    \n",
      "_________________________________________________________________\n",
      "dense (Dense)                (None, 1605)              162105    \n",
      "_________________________________________________________________\n",
      "dense_1 (Dense)              (None, 3211)              5156866   \n",
      "=================================================================\n",
      "Total params: 6,101,671\n",
      "Trainable params: 6,101,671\n",
      "Non-trainable params: 0\n",
      "_________________________________________________________________\n",
      "None\n"
     ]
    }
   ],
   "source": [
    "model = Sequential()\n",
    "model.add(Embedding(total_words, 100, input_length = max_sequence_len - 1))\n",
    "model.add(Bidirectional(LSTM(150, return_sequences = True)))\n",
    "model.add(Dropout(0.2))\n",
    "model.add(LSTM(100))\n",
    "model.add(Dense(total_words/2, activation = 'relu', kernel_regularizer = regularizers.l2(0.01)))\n",
    "model.add(Dense(total_words, activation = 'softmax'))\n",
    "# Pick an optimizer\n",
    "model.compile(loss = 'categorical_crossentropy', optimizer = 'adam', metrics = ['accuracy'])\n",
    "print(model.summary())"
   ]
  },
  {
   "cell_type": "code",
   "execution_count": 4,
   "metadata": {
    "colab": {
     "base_uri": "https://localhost:8080/"
    },
    "id": "AIg2f1HBxqof",
    "outputId": "f4e95488-9e8d-4f06-b0c2-1027a6491f9f"
   },
   "outputs": [
    {
     "name": "stdout",
     "output_type": "stream",
     "text": [
      "Epoch 1/100\n",
      "484/484 [==============================] - 17s 15ms/step - loss: 7.3474 - accuracy: 0.0197\n",
      "Epoch 2/100\n",
      "484/484 [==============================] - 8s 16ms/step - loss: 6.4702 - accuracy: 0.0232\n",
      "Epoch 3/100\n",
      "484/484 [==============================] - 8s 16ms/step - loss: 6.3867 - accuracy: 0.0227\n",
      "Epoch 4/100\n",
      "484/484 [==============================] - 7s 15ms/step - loss: 6.2782 - accuracy: 0.0274\n",
      "Epoch 5/100\n",
      "484/484 [==============================] - 7s 15ms/step - loss: 6.1990 - accuracy: 0.0307\n",
      "Epoch 6/100\n",
      "484/484 [==============================] - 7s 15ms/step - loss: 6.1188 - accuracy: 0.0368\n",
      "Epoch 7/100\n",
      "484/484 [==============================] - 7s 15ms/step - loss: 5.9949 - accuracy: 0.0409\n",
      "Epoch 8/100\n",
      "484/484 [==============================] - 7s 15ms/step - loss: 5.9051 - accuracy: 0.0437\n",
      "Epoch 9/100\n",
      "484/484 [==============================] - 7s 15ms/step - loss: 5.8513 - accuracy: 0.0486\n",
      "Epoch 10/100\n",
      "484/484 [==============================] - 7s 15ms/step - loss: 5.7654 - accuracy: 0.0532\n",
      "Epoch 11/100\n",
      "484/484 [==============================] - 7s 15ms/step - loss: 5.6183 - accuracy: 0.0642\n",
      "Epoch 12/100\n",
      "484/484 [==============================] - 7s 15ms/step - loss: 5.5351 - accuracy: 0.0649\n",
      "Epoch 13/100\n",
      "484/484 [==============================] - 7s 15ms/step - loss: 5.4052 - accuracy: 0.0753\n",
      "Epoch 14/100\n",
      "484/484 [==============================] - 7s 15ms/step - loss: 5.3073 - accuracy: 0.0818\n",
      "Epoch 15/100\n",
      "484/484 [==============================] - 7s 15ms/step - loss: 5.1929 - accuracy: 0.0867\n",
      "Epoch 16/100\n",
      "484/484 [==============================] - 7s 15ms/step - loss: 5.0727 - accuracy: 0.0992\n",
      "Epoch 17/100\n",
      "484/484 [==============================] - 7s 15ms/step - loss: 4.9637 - accuracy: 0.1057\n",
      "Epoch 18/100\n",
      "484/484 [==============================] - 7s 15ms/step - loss: 4.8712 - accuracy: 0.1110\n",
      "Epoch 19/100\n",
      "484/484 [==============================] - 7s 15ms/step - loss: 4.7844 - accuracy: 0.1195\n",
      "Epoch 20/100\n",
      "484/484 [==============================] - 7s 15ms/step - loss: 4.6625 - accuracy: 0.1353\n",
      "Epoch 21/100\n",
      "484/484 [==============================] - 7s 15ms/step - loss: 4.5722 - accuracy: 0.1375\n",
      "Epoch 22/100\n",
      "484/484 [==============================] - 7s 15ms/step - loss: 4.4741 - accuracy: 0.1465\n",
      "Epoch 23/100\n",
      "484/484 [==============================] - 7s 15ms/step - loss: 4.3936 - accuracy: 0.1566\n",
      "Epoch 24/100\n",
      "484/484 [==============================] - 8s 16ms/step - loss: 4.2700 - accuracy: 0.1742\n",
      "Epoch 25/100\n",
      "484/484 [==============================] - 7s 15ms/step - loss: 4.2176 - accuracy: 0.1798\n",
      "Epoch 26/100\n",
      "484/484 [==============================] - 7s 15ms/step - loss: 4.0841 - accuracy: 0.1970\n",
      "Epoch 27/100\n",
      "484/484 [==============================] - 7s 15ms/step - loss: 3.9660 - accuracy: 0.2133\n",
      "Epoch 28/100\n",
      "484/484 [==============================] - 8s 16ms/step - loss: 3.8706 - accuracy: 0.2337\n",
      "Epoch 29/100\n",
      "484/484 [==============================] - 8s 16ms/step - loss: 3.7973 - accuracy: 0.2412\n",
      "Epoch 30/100\n",
      "484/484 [==============================] - 7s 15ms/step - loss: 3.6884 - accuracy: 0.2615\n",
      "Epoch 31/100\n",
      "484/484 [==============================] - 7s 15ms/step - loss: 3.6113 - accuracy: 0.2708\n",
      "Epoch 32/100\n",
      "484/484 [==============================] - 7s 15ms/step - loss: 3.5083 - accuracy: 0.2952\n",
      "Epoch 33/100\n",
      "484/484 [==============================] - 7s 15ms/step - loss: 3.4211 - accuracy: 0.3211\n",
      "Epoch 34/100\n",
      "484/484 [==============================] - 8s 16ms/step - loss: 3.3624 - accuracy: 0.3237\n",
      "Epoch 35/100\n",
      "484/484 [==============================] - 7s 15ms/step - loss: 3.2797 - accuracy: 0.3462\n",
      "Epoch 36/100\n",
      "484/484 [==============================] - 8s 16ms/step - loss: 3.1688 - accuracy: 0.3792\n",
      "Epoch 37/100\n",
      "484/484 [==============================] - 7s 15ms/step - loss: 3.0819 - accuracy: 0.3980\n",
      "Epoch 38/100\n",
      "484/484 [==============================] - 8s 16ms/step - loss: 3.0275 - accuracy: 0.4128\n",
      "Epoch 39/100\n",
      "484/484 [==============================] - 7s 15ms/step - loss: 2.9603 - accuracy: 0.4253\n",
      "Epoch 40/100\n",
      "484/484 [==============================] - 7s 15ms/step - loss: 2.8800 - accuracy: 0.4443\n",
      "Epoch 41/100\n",
      "484/484 [==============================] - 8s 16ms/step - loss: 2.8187 - accuracy: 0.4554\n",
      "Epoch 42/100\n",
      "484/484 [==============================] - 7s 15ms/step - loss: 2.7463 - accuracy: 0.4745\n",
      "Epoch 43/100\n",
      "484/484 [==============================] - 7s 15ms/step - loss: 2.7113 - accuracy: 0.4805\n",
      "Epoch 44/100\n",
      "484/484 [==============================] - 8s 16ms/step - loss: 2.6091 - accuracy: 0.5094\n",
      "Epoch 45/100\n",
      "484/484 [==============================] - 8s 16ms/step - loss: 2.5559 - accuracy: 0.5209\n",
      "Epoch 46/100\n",
      "484/484 [==============================] - 7s 15ms/step - loss: 2.5120 - accuracy: 0.5245\n",
      "Epoch 47/100\n",
      "484/484 [==============================] - 7s 15ms/step - loss: 2.4695 - accuracy: 0.5361\n",
      "Epoch 48/100\n",
      "484/484 [==============================] - 8s 16ms/step - loss: 2.4227 - accuracy: 0.5453\n",
      "Epoch 49/100\n",
      "484/484 [==============================] - 8s 16ms/step - loss: 2.3769 - accuracy: 0.5576\n",
      "Epoch 50/100\n",
      "484/484 [==============================] - 8s 16ms/step - loss: 2.3068 - accuracy: 0.5739\n",
      "Epoch 51/100\n",
      "484/484 [==============================] - 8s 16ms/step - loss: 2.3049 - accuracy: 0.5718\n",
      "Epoch 52/100\n",
      "484/484 [==============================] - 7s 15ms/step - loss: 2.2198 - accuracy: 0.5914\n",
      "Epoch 53/100\n",
      "484/484 [==============================] - 7s 15ms/step - loss: 2.1883 - accuracy: 0.6020\n",
      "Epoch 54/100\n",
      "484/484 [==============================] - 8s 16ms/step - loss: 2.1525 - accuracy: 0.6140\n",
      "Epoch 55/100\n",
      "484/484 [==============================] - 8s 16ms/step - loss: 2.0849 - accuracy: 0.6240\n",
      "Epoch 56/100\n",
      "484/484 [==============================] - 8s 16ms/step - loss: 2.0737 - accuracy: 0.6271\n",
      "Epoch 57/100\n",
      "484/484 [==============================] - 8s 16ms/step - loss: 2.0475 - accuracy: 0.6299\n",
      "Epoch 58/100\n",
      "484/484 [==============================] - 8s 16ms/step - loss: 1.9793 - accuracy: 0.6481\n",
      "Epoch 59/100\n",
      "484/484 [==============================] - 7s 15ms/step - loss: 1.9443 - accuracy: 0.6543\n",
      "Epoch 60/100\n",
      "484/484 [==============================] - 8s 16ms/step - loss: 1.8810 - accuracy: 0.6738\n",
      "Epoch 61/100\n",
      "484/484 [==============================] - 8s 16ms/step - loss: 1.8768 - accuracy: 0.6733\n",
      "Epoch 62/100\n",
      "484/484 [==============================] - 8s 16ms/step - loss: 1.8621 - accuracy: 0.6652\n",
      "Epoch 63/100\n",
      "484/484 [==============================] - 8s 16ms/step - loss: 1.8147 - accuracy: 0.6828\n",
      "Epoch 64/100\n",
      "484/484 [==============================] - 8s 16ms/step - loss: 1.7685 - accuracy: 0.6910\n",
      "Epoch 65/100\n",
      "484/484 [==============================] - 8s 16ms/step - loss: 1.7578 - accuracy: 0.6955\n",
      "Epoch 66/100\n",
      "484/484 [==============================] - 7s 14ms/step - loss: 1.7287 - accuracy: 0.7015\n",
      "Epoch 67/100\n",
      "484/484 [==============================] - 7s 15ms/step - loss: 1.6801 - accuracy: 0.7116\n",
      "Epoch 68/100\n",
      "484/484 [==============================] - 8s 16ms/step - loss: 1.6569 - accuracy: 0.7131\n",
      "Epoch 69/100\n",
      "484/484 [==============================] - 8s 16ms/step - loss: 1.6232 - accuracy: 0.7233\n",
      "Epoch 70/100\n",
      "484/484 [==============================] - 8s 16ms/step - loss: 1.6069 - accuracy: 0.7271\n",
      "Epoch 71/100\n",
      "484/484 [==============================] - 8s 16ms/step - loss: 1.5908 - accuracy: 0.7261\n",
      "Epoch 72/100\n",
      "484/484 [==============================] - 8s 16ms/step - loss: 1.5703 - accuracy: 0.7322\n",
      "Epoch 73/100\n",
      "484/484 [==============================] - 8s 16ms/step - loss: 1.5335 - accuracy: 0.7423\n",
      "Epoch 74/100\n",
      "484/484 [==============================] - 8s 16ms/step - loss: 1.5265 - accuracy: 0.7407\n",
      "Epoch 75/100\n",
      "484/484 [==============================] - 8s 16ms/step - loss: 1.5144 - accuracy: 0.7390\n",
      "Epoch 76/100\n",
      "484/484 [==============================] - 8s 16ms/step - loss: 1.5023 - accuracy: 0.7441\n",
      "Epoch 77/100\n",
      "484/484 [==============================] - 8s 16ms/step - loss: 1.4917 - accuracy: 0.7401\n",
      "Epoch 78/100\n",
      "484/484 [==============================] - 8s 16ms/step - loss: 1.4543 - accuracy: 0.7484\n",
      "Epoch 79/100\n",
      "484/484 [==============================] - 8s 16ms/step - loss: 1.4371 - accuracy: 0.7594\n",
      "Epoch 80/100\n",
      "484/484 [==============================] - 8s 16ms/step - loss: 1.4315 - accuracy: 0.7589\n",
      "Epoch 81/100\n",
      "484/484 [==============================] - 8s 16ms/step - loss: 1.3997 - accuracy: 0.7593\n",
      "Epoch 82/100\n",
      "484/484 [==============================] - 8s 16ms/step - loss: 1.3859 - accuracy: 0.7685\n",
      "Epoch 83/100\n",
      "484/484 [==============================] - 8s 16ms/step - loss: 1.3701 - accuracy: 0.7683\n",
      "Epoch 84/100\n",
      "484/484 [==============================] - 8s 16ms/step - loss: 1.3319 - accuracy: 0.7721\n",
      "Epoch 85/100\n",
      "484/484 [==============================] - 8s 16ms/step - loss: 1.3118 - accuracy: 0.7853\n",
      "Epoch 86/100\n",
      "484/484 [==============================] - 8s 16ms/step - loss: 1.2996 - accuracy: 0.7832\n",
      "Epoch 87/100\n",
      "484/484 [==============================] - 8s 16ms/step - loss: 1.3093 - accuracy: 0.7757\n",
      "Epoch 88/100\n",
      "484/484 [==============================] - 8s 16ms/step - loss: 1.2696 - accuracy: 0.7876\n",
      "Epoch 89/100\n",
      "484/484 [==============================] - 8s 16ms/step - loss: 1.2869 - accuracy: 0.7809\n",
      "Epoch 90/100\n",
      "484/484 [==============================] - 8s 16ms/step - loss: 1.2518 - accuracy: 0.7863\n",
      "Epoch 91/100\n",
      "484/484 [==============================] - 8s 16ms/step - loss: 1.2463 - accuracy: 0.7900\n",
      "Epoch 92/100\n",
      "484/484 [==============================] - 8s 16ms/step - loss: 1.2254 - accuracy: 0.7914\n",
      "Epoch 93/100\n",
      "484/484 [==============================] - 8s 16ms/step - loss: 1.2039 - accuracy: 0.7973\n",
      "Epoch 94/100\n",
      "484/484 [==============================] - 8s 16ms/step - loss: 1.1903 - accuracy: 0.7954\n",
      "Epoch 95/100\n",
      "484/484 [==============================] - 8s 16ms/step - loss: 1.2005 - accuracy: 0.7910\n",
      "Epoch 96/100\n",
      "484/484 [==============================] - 8s 16ms/step - loss: 1.2127 - accuracy: 0.7935\n",
      "Epoch 97/100\n",
      "484/484 [==============================] - 8s 16ms/step - loss: 1.2046 - accuracy: 0.7940\n",
      "Epoch 98/100\n",
      "484/484 [==============================] - 8s 16ms/step - loss: 1.1432 - accuracy: 0.8045\n",
      "Epoch 99/100\n",
      "484/484 [==============================] - 8s 16ms/step - loss: 1.1238 - accuracy: 0.8114\n",
      "Epoch 100/100\n",
      "484/484 [==============================] - 8s 16ms/step - loss: 1.1265 - accuracy: 0.8076\n"
     ]
    }
   ],
   "source": [
    " history = model.fit(predictors, label, epochs=100, verbose=1)"
   ]
  },
  {
   "cell_type": "code",
   "execution_count": 5,
   "metadata": {
    "colab": {
     "base_uri": "https://localhost:8080/",
     "height": 545
    },
    "id": "1fXTEO3GJ282",
    "outputId": "95613e9e-5c9f-45b6-8d89-0216082f5032"
   },
   "outputs": [
    {
     "data": {
      "image/png": "[encoded data removed]",
      "text/plain": [
       "<Figure size 432x288 with 1 Axes>"
      ]
     },
     "metadata": {
      "needs_background": "light",
      "tags": []
     },
     "output_type": "display_data"
    },
    {
     "data": {
      "image/png": "[encoded data removed]",
      "text/plain": [
       "<Figure size 432x288 with 1 Axes>"
      ]
     },
     "metadata": {
      "needs_background": "light",
      "tags": []
     },
     "output_type": "display_data"
    }
   ],
   "source": [
    "import matplotlib.pyplot as plt\n",
    "acc = history.history['accuracy']\n",
    "loss = history.history['loss']\n",
    "\n",
    "epochs = range(len(acc))\n",
    "\n",
    "plt.plot(epochs, acc, 'b', label='Training accuracy')\n",
    "plt.title('Training accuracy')\n",
    "\n",
    "plt.figure()\n",
    "\n",
    "plt.plot(epochs, loss, 'b', label='Training Loss')\n",
    "plt.title('Training loss')\n",
    "plt.legend()\n",
    "\n",
    "plt.show()"
   ]
  },
  {
   "cell_type": "code",
   "execution_count": 6,
   "metadata": {
    "colab": {
     "base_uri": "https://localhost:8080/"
    },
    "id": "6Vc6PHgxa6Hm",
    "outputId": "803332ee-303a-4f49-f97b-bea49a9abd84"
   },
   "outputs": [
    {
     "name": "stderr",
     "output_type": "stream",
     "text": [
      "/usr/local/lib/python3.6/dist-packages/tensorflow/python/keras/engine/sequential.py:450: UserWarning: `model.predict_classes()` is deprecated and will be removed after 2021-01-01. Please use instead:* `np.argmax(model.predict(x), axis=-1)`,   if your model does multi-class classification   (e.g. if it uses a `softmax` last-layer activation).* `(model.predict(x) > 0.5).astype(\"int32\")`,   if your model does binary classification   (e.g. if it uses a `sigmoid` last-layer activation).\n",
      "  warnings.warn('`model.predict_classes()` is deprecated and '\n"
     ]
    },
    {
     "name": "stdout",
     "output_type": "stream",
     "text": [
      "Help me Obi Wan Kenobi, you're my only hope not tell the true rhyme part men releasing one spent grow dead words old account of laws brow rare rare behind hence contains contains bright growth and new dead remain lend ' lend thee days days light remain ' shows be so lie to me thine lie to write thine thine own state to thee thine thine own rhyme shade contains ' live thee so thine own rhyme growth to me ' still proceeds write so lie so thine ill give thee was a thought must die view thee behold thee so told thee so men deem'd thought an mind\n"
     ]
    }
   ],
   "source": [
    "seed_text = \"Help me Obi Wan Kenobi, you're my only hope\"\n",
    "next_words = 100\n",
    "  \n",
    "for _ in range(next_words):\n",
    "    token_list = tokenizer.texts_to_sequences([seed_text])[0]\n",
    "    token_list = pad_sequences([token_list], maxlen=max_sequence_len-1, padding='pre')\n",
    "    predicted = model.predict_classes(token_list, verbose=0)\n",
    "    output_word = \"\"\n",
    "    for word, index in tokenizer.word_index.items():\n",
    "        if index == predicted:\n",
    "            output_word = word\n",
    "            break\n",
    "    seed_text += \" \" + output_word\n",
    "print(seed_text)"
   ]
  }
 ],
 "metadata": {
  "accelerator": "GPU",
  "colab": {
   "name": "NLP_Week4_Exercise_Shakespeare_Question.ipynb",
   "provenance": [],
   "toc_visible": true
  },
  "kernelspec": {
   "display_name": "Python 3",
   "language": "python",
   "name": "python3"
  },
  "language_info": {
   "codemirror_mode": {
    "name": "ipython",
    "version": 3
   },
   "file_extension": ".py",
   "mimetype": "text/x-python",
   "name": "python",
   "nbconvert_exporter": "python",
   "pygments_lexer": "ipython3",
   "version": "3.7.2"
  }
 },
 "nbformat": 4,
 "nbformat_minor": 1
}
