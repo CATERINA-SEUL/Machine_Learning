{
 "cells": [
  {
   "cell_type": "markdown",
   "metadata": {},
   "source": [
    "## Sarcasm with 1D Convolutional Layer"
   ]
  },
  {
   "cell_type": "code",
   "execution_count": 1,
   "metadata": {
    "colab": {
     "base_uri": "https://localhost:8080/"
    },
    "id": "jGwXGIXvFhXW",
    "outputId": "15b6bff0-81c5-425e-d8e1-8191d221a621"
   },
   "outputs": [
    {
     "name": "stdout",
     "output_type": "stream",
     "text": [
      "--2021-02-19 07:05:34--  https://storage.googleapis.com/laurencemoroney-blog.appspot.com/sarcasm.json\n",
      "Resolving storage.googleapis.com (storage.googleapis.com)... 108.177.11.128, 74.125.141.128, 173.194.210.128, ...\n",
      "Connecting to storage.googleapis.com (storage.googleapis.com)|108.177.11.128|:443... connected.\n",
      "HTTP request sent, awaiting response... 200 OK\n",
      "Length: 5643545 (5.4M) [application/json]\n",
      "Saving to: ‘/tmp/sarcasm.json’\n",
      "\n",
      "\r",
      "/tmp/sarcasm.json     0%[                    ]       0  --.-KB/s               \r",
      "/tmp/sarcasm.json   100%[===================>]   5.38M  --.-KB/s    in 0.05s   \n",
      "\n",
      "2021-02-19 07:05:34 (106 MB/s) - ‘/tmp/sarcasm.json’ saved [5643545/5643545]\n",
      "\n",
      "Model: \"sequential\"\n",
      "_________________________________________________________________\n",
      "Layer (type)                 Output Shape              Param #   \n",
      "=================================================================\n",
      "embedding (Embedding)        (None, 120, 16)           16000     \n",
      "_________________________________________________________________\n",
      "conv1d (Conv1D)              (None, 116, 128)          10368     \n",
      "_________________________________________________________________\n",
      "global_max_pooling1d (Global (None, 128)               0         \n",
      "_________________________________________________________________\n",
      "dense (Dense)                (None, 24)                3096      \n",
      "_________________________________________________________________\n",
      "dense_1 (Dense)              (None, 1)                 25        \n",
      "=================================================================\n",
      "Total params: 29,489\n",
      "Trainable params: 29,489\n",
      "Non-trainable params: 0\n",
      "_________________________________________________________________\n",
      "Epoch 1/50\n",
      "625/625 [==============================] - 10s 5ms/step - loss: 0.5621 - accuracy: 0.6864 - val_loss: 0.4140 - val_accuracy: 0.8080\n",
      "Epoch 2/50\n",
      "625/625 [==============================] - 3s 4ms/step - loss: 0.3590 - accuracy: 0.8392 - val_loss: 0.3914 - val_accuracy: 0.8207\n",
      "Epoch 3/50\n",
      "625/625 [==============================] - 3s 4ms/step - loss: 0.3109 - accuracy: 0.8696 - val_loss: 0.4005 - val_accuracy: 0.8237\n",
      "Epoch 4/50\n",
      "625/625 [==============================] - 3s 4ms/step - loss: 0.2718 - accuracy: 0.8849 - val_loss: 0.4011 - val_accuracy: 0.8231\n",
      "Epoch 5/50\n",
      "625/625 [==============================] - 3s 4ms/step - loss: 0.2334 - accuracy: 0.9043 - val_loss: 0.4304 - val_accuracy: 0.8190\n",
      "Epoch 6/50\n",
      "625/625 [==============================] - 3s 4ms/step - loss: 0.1959 - accuracy: 0.9244 - val_loss: 0.4799 - val_accuracy: 0.8171\n",
      "Epoch 7/50\n",
      "625/625 [==============================] - 3s 4ms/step - loss: 0.1657 - accuracy: 0.9370 - val_loss: 0.5301 - val_accuracy: 0.8129\n",
      "Epoch 8/50\n",
      "625/625 [==============================] - 3s 4ms/step - loss: 0.1310 - accuracy: 0.9533 - val_loss: 0.5586 - val_accuracy: 0.8147\n",
      "Epoch 9/50\n",
      "625/625 [==============================] - 3s 4ms/step - loss: 0.1120 - accuracy: 0.9614 - val_loss: 0.6203 - val_accuracy: 0.8085\n",
      "Epoch 10/50\n",
      "625/625 [==============================] - 3s 4ms/step - loss: 0.0903 - accuracy: 0.9704 - val_loss: 0.7113 - val_accuracy: 0.8070\n",
      "Epoch 11/50\n",
      "625/625 [==============================] - 3s 5ms/step - loss: 0.0753 - accuracy: 0.9739 - val_loss: 0.7723 - val_accuracy: 0.7995\n",
      "Epoch 12/50\n",
      "625/625 [==============================] - 3s 4ms/step - loss: 0.0606 - accuracy: 0.9800 - val_loss: 0.8684 - val_accuracy: 0.7997\n",
      "Epoch 13/50\n",
      "625/625 [==============================] - 3s 4ms/step - loss: 0.0549 - accuracy: 0.9813 - val_loss: 0.9247 - val_accuracy: 0.8082\n",
      "Epoch 14/50\n",
      "625/625 [==============================] - 3s 4ms/step - loss: 0.0491 - accuracy: 0.9829 - val_loss: 1.0111 - val_accuracy: 0.7955\n",
      "Epoch 15/50\n",
      "625/625 [==============================] - 3s 4ms/step - loss: 0.0486 - accuracy: 0.9835 - val_loss: 1.1717 - val_accuracy: 0.7936\n",
      "Epoch 16/50\n",
      "625/625 [==============================] - 3s 4ms/step - loss: 0.0394 - accuracy: 0.9843 - val_loss: 1.1554 - val_accuracy: 0.7952\n",
      "Epoch 17/50\n",
      "625/625 [==============================] - 3s 4ms/step - loss: 0.0366 - accuracy: 0.9877 - val_loss: 1.2225 - val_accuracy: 0.7985\n",
      "Epoch 18/50\n",
      "625/625 [==============================] - 3s 4ms/step - loss: 0.0360 - accuracy: 0.9869 - val_loss: 1.2875 - val_accuracy: 0.7933\n",
      "Epoch 19/50\n",
      "625/625 [==============================] - 3s 5ms/step - loss: 0.0376 - accuracy: 0.9863 - val_loss: 1.2908 - val_accuracy: 0.8035\n",
      "Epoch 20/50\n",
      "625/625 [==============================] - 3s 5ms/step - loss: 0.0347 - accuracy: 0.9871 - val_loss: 1.3369 - val_accuracy: 0.8001\n",
      "Epoch 21/50\n",
      "625/625 [==============================] - 3s 5ms/step - loss: 0.0312 - accuracy: 0.9877 - val_loss: 1.5106 - val_accuracy: 0.7943\n",
      "Epoch 22/50\n",
      "625/625 [==============================] - 3s 4ms/step - loss: 0.0324 - accuracy: 0.9878 - val_loss: 1.4676 - val_accuracy: 0.7968\n",
      "Epoch 23/50\n",
      "625/625 [==============================] - 3s 4ms/step - loss: 0.0297 - accuracy: 0.9869 - val_loss: 1.5181 - val_accuracy: 0.8012\n",
      "Epoch 24/50\n",
      "625/625 [==============================] - 3s 4ms/step - loss: 0.0267 - accuracy: 0.9892 - val_loss: 1.6000 - val_accuracy: 0.7964\n",
      "Epoch 25/50\n",
      "625/625 [==============================] - 3s 4ms/step - loss: 0.0264 - accuracy: 0.9886 - val_loss: 1.7443 - val_accuracy: 0.7949\n",
      "Epoch 26/50\n",
      "625/625 [==============================] - 3s 5ms/step - loss: 0.0285 - accuracy: 0.9869 - val_loss: 1.6753 - val_accuracy: 0.7909\n",
      "Epoch 27/50\n",
      "625/625 [==============================] - 3s 4ms/step - loss: 0.0244 - accuracy: 0.9898 - val_loss: 1.7090 - val_accuracy: 0.7943\n",
      "Epoch 28/50\n",
      "625/625 [==============================] - 3s 4ms/step - loss: 0.0268 - accuracy: 0.9891 - val_loss: 1.7950 - val_accuracy: 0.7943\n",
      "Epoch 29/50\n",
      "625/625 [==============================] - 3s 4ms/step - loss: 0.0269 - accuracy: 0.9888 - val_loss: 1.7933 - val_accuracy: 0.7915\n",
      "Epoch 30/50\n",
      "625/625 [==============================] - 3s 5ms/step - loss: 0.0288 - accuracy: 0.9882 - val_loss: 1.7589 - val_accuracy: 0.7946\n",
      "Epoch 31/50\n",
      "625/625 [==============================] - 3s 5ms/step - loss: 0.0240 - accuracy: 0.9901 - val_loss: 1.8095 - val_accuracy: 0.7979\n",
      "Epoch 32/50\n",
      "625/625 [==============================] - 3s 5ms/step - loss: 0.0215 - accuracy: 0.9911 - val_loss: 1.7693 - val_accuracy: 0.7922\n",
      "Epoch 33/50\n",
      "625/625 [==============================] - 3s 4ms/step - loss: 0.0187 - accuracy: 0.9925 - val_loss: 1.9616 - val_accuracy: 0.7864\n",
      "Epoch 34/50\n",
      "625/625 [==============================] - 3s 4ms/step - loss: 0.0195 - accuracy: 0.9924 - val_loss: 2.0301 - val_accuracy: 0.7940\n",
      "Epoch 35/50\n",
      "625/625 [==============================] - 3s 5ms/step - loss: 0.0246 - accuracy: 0.9901 - val_loss: 1.9307 - val_accuracy: 0.7919\n",
      "Epoch 36/50\n",
      "625/625 [==============================] - 3s 5ms/step - loss: 0.0231 - accuracy: 0.9904 - val_loss: 2.0785 - val_accuracy: 0.7982\n",
      "Epoch 37/50\n",
      "625/625 [==============================] - 3s 5ms/step - loss: 0.0227 - accuracy: 0.9897 - val_loss: 1.9790 - val_accuracy: 0.7983\n",
      "Epoch 38/50\n",
      "625/625 [==============================] - 3s 5ms/step - loss: 0.0204 - accuracy: 0.9906 - val_loss: 2.1215 - val_accuracy: 0.7994\n",
      "Epoch 39/50\n",
      "625/625 [==============================] - 3s 5ms/step - loss: 0.0180 - accuracy: 0.9926 - val_loss: 2.2139 - val_accuracy: 0.7992\n",
      "Epoch 40/50\n",
      "625/625 [==============================] - 3s 5ms/step - loss: 0.0184 - accuracy: 0.9919 - val_loss: 2.1207 - val_accuracy: 0.7970\n",
      "Epoch 41/50\n",
      "625/625 [==============================] - 3s 5ms/step - loss: 0.0233 - accuracy: 0.9899 - val_loss: 2.1644 - val_accuracy: 0.7919\n",
      "Epoch 42/50\n",
      "625/625 [==============================] - 3s 5ms/step - loss: 0.0269 - accuracy: 0.9878 - val_loss: 2.2605 - val_accuracy: 0.7883\n",
      "Epoch 43/50\n",
      "625/625 [==============================] - 3s 5ms/step - loss: 0.0204 - accuracy: 0.9912 - val_loss: 2.0975 - val_accuracy: 0.7931\n",
      "Epoch 44/50\n",
      "625/625 [==============================] - 3s 5ms/step - loss: 0.0191 - accuracy: 0.9924 - val_loss: 2.1934 - val_accuracy: 0.7912\n",
      "Epoch 45/50\n",
      "625/625 [==============================] - 3s 4ms/step - loss: 0.0195 - accuracy: 0.9919 - val_loss: 2.1962 - val_accuracy: 0.7959\n",
      "Epoch 46/50\n",
      "625/625 [==============================] - 3s 4ms/step - loss: 0.0172 - accuracy: 0.9929 - val_loss: 2.3266 - val_accuracy: 0.7945\n",
      "Epoch 47/50\n",
      "625/625 [==============================] - 3s 5ms/step - loss: 0.0164 - accuracy: 0.9929 - val_loss: 2.4045 - val_accuracy: 0.7959\n",
      "Epoch 48/50\n",
      "625/625 [==============================] - 3s 4ms/step - loss: 0.0244 - accuracy: 0.9898 - val_loss: 2.2531 - val_accuracy: 0.7931\n",
      "Epoch 49/50\n",
      "625/625 [==============================] - 3s 5ms/step - loss: 0.0172 - accuracy: 0.9927 - val_loss: 2.3173 - val_accuracy: 0.7882\n",
      "Epoch 50/50\n",
      "625/625 [==============================] - 3s 4ms/step - loss: 0.0242 - accuracy: 0.9886 - val_loss: 2.2843 - val_accuracy: 0.7916\n"
     ]
    }
   ],
   "source": [
    "import numpy as np\n",
    "\n",
    "import json\n",
    "import tensorflow as tf\n",
    "\n",
    "from tensorflow.keras.preprocessing.text import Tokenizer\n",
    "from tensorflow.keras.preprocessing.sequence import pad_sequences\n",
    "\n",
    "!wget --no-check-certificate \\\n",
    "    https://storage.googleapis.com/laurencemoroney-blog.appspot.com/sarcasm.json \\\n",
    "    -O /tmp/sarcasm.json\n",
    "\n",
    "vocab_size = 1000\n",
    "embedding_dim = 16\n",
    "max_length = 120\n",
    "trunc_type='post'\n",
    "padding_type='post'\n",
    "oov_tok = \"<OOV>\"\n",
    "training_size = 20000\n",
    "\n",
    "\n",
    "with open(\"/tmp/sarcasm.json\", 'r') as f:\n",
    "    datastore = json.load(f)\n",
    "\n",
    "\n",
    "sentences = []\n",
    "labels = []\n",
    "urls = []\n",
    "for item in datastore:\n",
    "    sentences.append(item['headline'])\n",
    "    labels.append(item['is_sarcastic'])\n",
    "\n",
    "training_sentences = sentences[0:training_size]\n",
    "testing_sentences = sentences[training_size:]\n",
    "training_labels = labels[0:training_size]\n",
    "testing_labels = labels[training_size:]\n",
    "\n",
    "tokenizer = Tokenizer(num_words=vocab_size, oov_token=oov_tok)\n",
    "tokenizer.fit_on_texts(training_sentences)\n",
    "\n",
    "word_index = tokenizer.word_index\n",
    "\n",
    "training_sequences = tokenizer.texts_to_sequences(training_sentences)\n",
    "training_padded = pad_sequences(training_sequences, maxlen=max_length, padding=padding_type, truncating=trunc_type)\n",
    "\n",
    "testing_sequences = tokenizer.texts_to_sequences(testing_sentences)\n",
    "testing_padded = pad_sequences(testing_sequences, maxlen=max_length, padding=padding_type, truncating=trunc_type)\n",
    "\n",
    "model = tf.keras.Sequential([\n",
    "    tf.keras.layers.Embedding(vocab_size, embedding_dim, input_length=max_length),\n",
    "    tf.keras.layers.Conv1D(128, 5, activation='relu'),\n",
    "    tf.keras.layers.GlobalMaxPooling1D(),\n",
    "    tf.keras.layers.Dense(24, activation='relu'),\n",
    "    tf.keras.layers.Dense(1, activation='sigmoid')\n",
    "])\n",
    "model.compile(loss='binary_crossentropy',optimizer='adam',metrics=['accuracy'])\n",
    "model.summary()\n",
    "\n",
    "num_epochs = 50\n",
    "\n",
    "training_padded = np.array(training_padded)\n",
    "training_labels = np.array(training_labels)\n",
    "testing_padded = np.array(testing_padded)\n",
    "testing_labels = np.array(testing_labels)\n",
    "\n",
    "history = model.fit(training_padded, training_labels, epochs=num_epochs, validation_data=(testing_padded, testing_labels), verbose=1)\n"
   ]
  },
  {
   "cell_type": "code",
   "execution_count": 2,
   "metadata": {
    "colab": {
     "base_uri": "https://localhost:8080/",
     "height": 544
    },
    "id": "g9DC6dmLF8DC",
    "outputId": "aa3dba10-ccd9-4874-c3db-2609a2519fb4"
   },
   "outputs": [
    {
     "data": {
      "image/png": "[encoded data removed]",
      "text/plain": [
       "<Figure size 432x288 with 1 Axes>"
      ]
     },
     "metadata": {
      "needs_background": "light",
      "tags": []
     },
     "output_type": "display_data"
    },
    {
     "data": {
      "image/png": "[encoded data removed]",
      "text/plain": [
       "<Figure size 432x288 with 1 Axes>"
      ]
     },
     "metadata": {
      "needs_background": "light",
      "tags": []
     },
     "output_type": "display_data"
    }
   ],
   "source": [
    "import matplotlib.pyplot as plt\n",
    "\n",
    "\n",
    "def plot_graphs(history, string):\n",
    "  plt.plot(history.history[string])\n",
    "  plt.plot(history.history['val_'+string])\n",
    "  plt.xlabel(\"Epochs\")\n",
    "  plt.ylabel(string)\n",
    "  plt.legend([string, 'val_'+string])\n",
    "  plt.show()\n",
    "\n",
    "plot_graphs(history, 'accuracy')\n",
    "plot_graphs(history, 'loss')"
   ]
  },
  {
   "cell_type": "code",
   "execution_count": null,
   "metadata": {
    "id": "7ZEZIUppGhdi"
   },
   "outputs": [],
   "source": [
    "model.save(\"test.h5\")"
   ]
  }
 ],
 "metadata": {
  "accelerator": "GPU",
  "colab": {
   "collapsed_sections": [],
   "name": "Course 3 - Week 3 - Lesson 2c.ipynb",
   "provenance": [],
   "toc_visible": true
  },
  "kernelspec": {
   "display_name": "Python 3",
   "language": "python",
   "name": "python3"
  },
  "language_info": {
   "codemirror_mode": {
    "name": "ipython",
    "version": 3
   },
   "file_extension": ".py",
   "mimetype": "text/x-python",
   "name": "python",
   "nbconvert_exporter": "python",
   "pygments_lexer": "ipython3",
   "version": "3.7.2"
  }
 },
 "nbformat": 4,
 "nbformat_minor": 1
}
