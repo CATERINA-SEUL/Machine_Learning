{
 "cells": [
  {
   "cell_type": "markdown",
   "metadata": {},
   "source": [
    "The neural network is like a function that when you feed it in data and labels, it infers the rules from these, and then you can use those rules\n",
    "\n",
    "![1](https://user-images.githubusercontent.com/46242120/108305506-78a1f580-71ed-11eb-918d-f6be9f3cfa78.png)"
   ]
  },
  {
   "cell_type": "markdown",
   "metadata": {},
   "source": [
    "o it could be seen as a function a little bit like this, you take the data and you take the labels, and you get the rules. But this doesn't take any kind of sequence into account.\n",
    "\n",
    "![2](https://user-images.githubusercontent.com/46242120/108305674-e0584080-71ed-11eb-8146-acd282cead8e.png)\n",
    "\n",
    "To understand why sequences can be important, consider this set of numbers. If you've never seen them before, they're called the Fibonacci sequence. So let's replace the actual values with variables such as n_0, n_1 and n_2, etc., to denote them. Then the sequence itself can be derived where a number is the sum of the two numbers before it. So 3 is 2 plus 1, 5 is 2 plus 3, 8 is 3 plus 5, etc. Our n_x equals n_x minus 1, plus n_x minus 2, where x is the position in the sequence.\n",
    "\n",
    "![3](https://user-images.githubusercontent.com/46242120/108305681-e3ebc780-71ed-11eb-90f6-474051bd6071.png)\n"
   ]
  },
  {
   "cell_type": "markdown",
   "metadata": {},
   "source": [
    "Visualized, it might also look like this, one and two feed into the first function and three comes out. Two gets carried over to the next, where it's fed in along with the three to give us a five. The three is carried on to the next where it's fed into the function along with the five to get an eight and so on. \n",
    "\n",
    "![4](https://user-images.githubusercontent.com/46242120/108305783-1bf30a80-71ee-11eb-9f45-58eff25565f5.png)\n",
    "\n",
    "This is similar to the basic idea of a recurrent neural network or RNN, which is often drawn a little like this. You have your x as in input and your y as an output. But there's also an element that's fed into the function from a previous function. That becomes a little more clear when you chain them together like this, x_0 is fed into the function returning y_0. An output from the function is then fed into the next function, which gets fed into the function along with x_2 to get y_2, producing an output and continuing the sequence. As you can see, there's an element of x_0 fed all the way through the network, similar with x_1 and x_2 etc.\n",
    "\n",
    "![5](https://user-images.githubusercontent.com/46242120/108305952-77bd9380-71ee-11eb-8ec2-858125bf6b4c.png)"
   ]
  }
 ],
 "metadata": {
  "kernelspec": {
   "display_name": "Python 3",
   "language": "python",
   "name": "python3"
  },
  "language_info": {
   "codemirror_mode": {
    "name": "ipython",
    "version": 3
   },
   "file_extension": ".py",
   "mimetype": "text/x-python",
   "name": "python",
   "nbconvert_exporter": "python",
   "pygments_lexer": "ipython3",
   "version": "3.7.2"
  }
 },
 "nbformat": 4,
 "nbformat_minor": 4
}
