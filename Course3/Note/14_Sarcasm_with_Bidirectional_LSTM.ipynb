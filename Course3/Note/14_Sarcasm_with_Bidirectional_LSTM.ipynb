{
 "cells": [
  {
   "cell_type": "markdown",
   "metadata": {},
   "source": [
    "## Sarcasm with Bidirectional LSTM"
   ]
  },
  {
   "cell_type": "code",
   "execution_count": 1,
   "metadata": {
    "colab": {
     "base_uri": "https://localhost:8080/"
    },
    "id": "jGwXGIXvFhXW",
    "outputId": "3a779f9e-5d13-490f-aed5-7aa3927c588a"
   },
   "outputs": [
    {
     "name": "stdout",
     "output_type": "stream",
     "text": [
      "--2021-02-19 06:49:19--  https://storage.googleapis.com/laurencemoroney-blog.appspot.com/sarcasm.json\n",
      "Resolving storage.googleapis.com (storage.googleapis.com)... 74.125.20.128, 74.125.142.128, 74.125.195.128, ...\n",
      "Connecting to storage.googleapis.com (storage.googleapis.com)|74.125.20.128|:443... connected.\n",
      "HTTP request sent, awaiting response... 200 OK\n",
      "Length: 5643545 (5.4M) [application/json]\n",
      "Saving to: ‘/tmp/sarcasm.json’\n",
      "\n",
      "\r",
      "/tmp/sarcasm.json     0%[                    ]       0  --.-KB/s               \r",
      "/tmp/sarcasm.json   100%[===================>]   5.38M  --.-KB/s    in 0.05s   \n",
      "\n",
      "2021-02-19 06:49:19 (107 MB/s) - ‘/tmp/sarcasm.json’ saved [5643545/5643545]\n",
      "\n",
      "Model: \"sequential\"\n",
      "_________________________________________________________________\n",
      "Layer (type)                 Output Shape              Param #   \n",
      "=================================================================\n",
      "embedding (Embedding)        (None, 120, 16)           16000     \n",
      "_________________________________________________________________\n",
      "bidirectional (Bidirectional (None, 64)                12544     \n",
      "_________________________________________________________________\n",
      "dense (Dense)                (None, 24)                1560      \n",
      "_________________________________________________________________\n",
      "dense_1 (Dense)              (None, 1)                 25        \n",
      "=================================================================\n",
      "Total params: 30,129\n",
      "Trainable params: 30,129\n",
      "Non-trainable params: 0\n",
      "_________________________________________________________________\n",
      "Epoch 1/50\n",
      "625/625 [==============================] - 16s 13ms/step - loss: 0.5299 - accuracy: 0.6995 - val_loss: 0.3906 - val_accuracy: 0.8223\n",
      "Epoch 2/50\n",
      "625/625 [==============================] - 7s 11ms/step - loss: 0.3589 - accuracy: 0.8358 - val_loss: 0.3817 - val_accuracy: 0.8261\n",
      "Epoch 3/50\n",
      "625/625 [==============================] - 7s 11ms/step - loss: 0.3343 - accuracy: 0.8481 - val_loss: 0.3728 - val_accuracy: 0.8323\n",
      "Epoch 4/50\n",
      "625/625 [==============================] - 7s 11ms/step - loss: 0.3086 - accuracy: 0.8622 - val_loss: 0.3704 - val_accuracy: 0.8320\n",
      "Epoch 5/50\n",
      "625/625 [==============================] - 7s 11ms/step - loss: 0.2873 - accuracy: 0.8724 - val_loss: 0.3721 - val_accuracy: 0.8316\n",
      "Epoch 6/50\n",
      "625/625 [==============================] - 7s 11ms/step - loss: 0.2796 - accuracy: 0.8743 - val_loss: 0.3776 - val_accuracy: 0.8331\n",
      "Epoch 7/50\n",
      "625/625 [==============================] - 7s 11ms/step - loss: 0.2690 - accuracy: 0.8831 - val_loss: 0.3825 - val_accuracy: 0.8295\n",
      "Epoch 8/50\n",
      "625/625 [==============================] - 7s 11ms/step - loss: 0.2647 - accuracy: 0.8837 - val_loss: 0.3967 - val_accuracy: 0.8313\n",
      "Epoch 9/50\n",
      "625/625 [==============================] - 7s 11ms/step - loss: 0.2638 - accuracy: 0.8855 - val_loss: 0.4189 - val_accuracy: 0.8262\n",
      "Epoch 10/50\n",
      "625/625 [==============================] - 7s 11ms/step - loss: 0.2499 - accuracy: 0.8948 - val_loss: 0.4025 - val_accuracy: 0.8258\n",
      "Epoch 11/50\n",
      "625/625 [==============================] - 7s 11ms/step - loss: 0.2420 - accuracy: 0.9000 - val_loss: 0.4273 - val_accuracy: 0.8214\n",
      "Epoch 12/50\n",
      "625/625 [==============================] - 7s 11ms/step - loss: 0.2348 - accuracy: 0.9011 - val_loss: 0.4268 - val_accuracy: 0.8214\n",
      "Epoch 13/50\n",
      "625/625 [==============================] - 7s 11ms/step - loss: 0.2269 - accuracy: 0.9050 - val_loss: 0.4750 - val_accuracy: 0.8207\n",
      "Epoch 14/50\n",
      "625/625 [==============================] - 7s 11ms/step - loss: 0.2191 - accuracy: 0.9058 - val_loss: 0.4548 - val_accuracy: 0.8176\n",
      "Epoch 15/50\n",
      "625/625 [==============================] - 7s 11ms/step - loss: 0.2040 - accuracy: 0.9146 - val_loss: 0.4565 - val_accuracy: 0.8249\n",
      "Epoch 16/50\n",
      "625/625 [==============================] - 7s 11ms/step - loss: 0.2037 - accuracy: 0.9158 - val_loss: 0.5111 - val_accuracy: 0.8128\n",
      "Epoch 17/50\n",
      "625/625 [==============================] - 7s 11ms/step - loss: 0.1920 - accuracy: 0.9189 - val_loss: 0.5254 - val_accuracy: 0.8198\n",
      "Epoch 18/50\n",
      "625/625 [==============================] - 7s 11ms/step - loss: 0.1816 - accuracy: 0.9251 - val_loss: 0.5449 - val_accuracy: 0.8164\n",
      "Epoch 19/50\n",
      "625/625 [==============================] - 7s 11ms/step - loss: 0.1805 - accuracy: 0.9254 - val_loss: 0.5939 - val_accuracy: 0.8122\n",
      "Epoch 20/50\n",
      "625/625 [==============================] - 7s 11ms/step - loss: 0.1635 - accuracy: 0.9318 - val_loss: 0.6311 - val_accuracy: 0.8109\n",
      "Epoch 21/50\n",
      "625/625 [==============================] - 7s 11ms/step - loss: 0.1583 - accuracy: 0.9334 - val_loss: 0.6739 - val_accuracy: 0.8147\n",
      "Epoch 22/50\n",
      "625/625 [==============================] - 7s 11ms/step - loss: 0.1521 - accuracy: 0.9377 - val_loss: 0.7137 - val_accuracy: 0.8077\n",
      "Epoch 23/50\n",
      "625/625 [==============================] - 7s 11ms/step - loss: 0.1461 - accuracy: 0.9386 - val_loss: 0.7345 - val_accuracy: 0.8140\n",
      "Epoch 24/50\n",
      "625/625 [==============================] - 7s 11ms/step - loss: 0.1392 - accuracy: 0.9433 - val_loss: 0.7013 - val_accuracy: 0.8070\n",
      "Epoch 25/50\n",
      "625/625 [==============================] - 7s 11ms/step - loss: 0.1313 - accuracy: 0.9463 - val_loss: 0.8439 - val_accuracy: 0.8047\n",
      "Epoch 26/50\n",
      "625/625 [==============================] - 7s 11ms/step - loss: 0.1304 - accuracy: 0.9480 - val_loss: 0.7935 - val_accuracy: 0.8055\n",
      "Epoch 27/50\n",
      "625/625 [==============================] - 7s 11ms/step - loss: 0.1210 - accuracy: 0.9511 - val_loss: 0.9016 - val_accuracy: 0.8018\n",
      "Epoch 28/50\n",
      "625/625 [==============================] - 7s 11ms/step - loss: 0.1112 - accuracy: 0.9527 - val_loss: 0.9075 - val_accuracy: 0.8044\n",
      "Epoch 29/50\n",
      "625/625 [==============================] - 7s 11ms/step - loss: 0.1095 - accuracy: 0.9553 - val_loss: 0.9680 - val_accuracy: 0.8037\n",
      "Epoch 30/50\n",
      "625/625 [==============================] - 7s 11ms/step - loss: 0.1048 - accuracy: 0.9564 - val_loss: 0.9330 - val_accuracy: 0.8000\n",
      "Epoch 31/50\n",
      "625/625 [==============================] - 7s 11ms/step - loss: 0.1068 - accuracy: 0.9552 - val_loss: 0.9887 - val_accuracy: 0.8012\n",
      "Epoch 32/50\n",
      "625/625 [==============================] - 7s 11ms/step - loss: 0.0991 - accuracy: 0.9601 - val_loss: 1.0220 - val_accuracy: 0.8019\n",
      "Epoch 33/50\n",
      "625/625 [==============================] - 7s 11ms/step - loss: 0.0951 - accuracy: 0.9592 - val_loss: 1.1831 - val_accuracy: 0.8055\n",
      "Epoch 34/50\n",
      "625/625 [==============================] - 7s 11ms/step - loss: 0.0887 - accuracy: 0.9604 - val_loss: 1.3005 - val_accuracy: 0.8052\n",
      "Epoch 35/50\n",
      "625/625 [==============================] - 7s 11ms/step - loss: 0.0943 - accuracy: 0.9591 - val_loss: 1.1783 - val_accuracy: 0.8082\n",
      "Epoch 36/50\n",
      "625/625 [==============================] - 7s 11ms/step - loss: 0.0869 - accuracy: 0.9646 - val_loss: 1.2347 - val_accuracy: 0.8013\n",
      "Epoch 37/50\n",
      "625/625 [==============================] - 7s 11ms/step - loss: 0.0779 - accuracy: 0.9667 - val_loss: 1.4180 - val_accuracy: 0.7976\n",
      "Epoch 38/50\n",
      "625/625 [==============================] - 7s 11ms/step - loss: 0.0832 - accuracy: 0.9646 - val_loss: 1.3369 - val_accuracy: 0.7989\n",
      "Epoch 39/50\n",
      "625/625 [==============================] - 7s 11ms/step - loss: 0.0785 - accuracy: 0.9666 - val_loss: 1.4058 - val_accuracy: 0.7997\n",
      "Epoch 40/50\n",
      "625/625 [==============================] - 7s 11ms/step - loss: 0.0685 - accuracy: 0.9694 - val_loss: 1.5219 - val_accuracy: 0.8004\n",
      "Epoch 41/50\n",
      "625/625 [==============================] - 7s 11ms/step - loss: 0.0681 - accuracy: 0.9693 - val_loss: 1.4537 - val_accuracy: 0.8052\n",
      "Epoch 42/50\n",
      "625/625 [==============================] - 7s 11ms/step - loss: 0.0773 - accuracy: 0.9678 - val_loss: 1.6259 - val_accuracy: 0.8041\n",
      "Epoch 43/50\n",
      "625/625 [==============================] - 7s 11ms/step - loss: 0.0675 - accuracy: 0.9713 - val_loss: 1.6361 - val_accuracy: 0.8025\n",
      "Epoch 44/50\n",
      "625/625 [==============================] - 7s 11ms/step - loss: 0.0564 - accuracy: 0.9742 - val_loss: 1.6725 - val_accuracy: 0.7943\n",
      "Epoch 45/50\n",
      "625/625 [==============================] - 7s 11ms/step - loss: 0.0584 - accuracy: 0.9739 - val_loss: 1.6490 - val_accuracy: 0.7874\n",
      "Epoch 46/50\n",
      "625/625 [==============================] - 7s 11ms/step - loss: 0.0686 - accuracy: 0.9709 - val_loss: 1.6837 - val_accuracy: 0.8027\n",
      "Epoch 47/50\n",
      "625/625 [==============================] - 7s 11ms/step - loss: 0.0594 - accuracy: 0.9745 - val_loss: 1.7632 - val_accuracy: 0.8010\n",
      "Epoch 48/50\n",
      "625/625 [==============================] - 7s 11ms/step - loss: 0.0595 - accuracy: 0.9743 - val_loss: 1.8408 - val_accuracy: 0.8015\n",
      "Epoch 49/50\n",
      "625/625 [==============================] - 7s 11ms/step - loss: 0.0532 - accuracy: 0.9767 - val_loss: 1.7619 - val_accuracy: 0.7970\n",
      "Epoch 50/50\n",
      "625/625 [==============================] - 7s 11ms/step - loss: 0.0589 - accuracy: 0.9724 - val_loss: 1.8404 - val_accuracy: 0.8013\n"
     ]
    }
   ],
   "source": [
    "import numpy as np\n",
    "\n",
    "import json\n",
    "import tensorflow as tf\n",
    "\n",
    "from tensorflow.keras.preprocessing.text import Tokenizer\n",
    "from tensorflow.keras.preprocessing.sequence import pad_sequences\n",
    "\n",
    "!wget --no-check-certificate \\\n",
    "    https://storage.googleapis.com/laurencemoroney-blog.appspot.com/sarcasm.json \\\n",
    "    -O /tmp/sarcasm.json\n",
    "\n",
    "vocab_size = 1000\n",
    "embedding_dim = 16\n",
    "max_length = 120\n",
    "trunc_type='post'\n",
    "padding_type='post'\n",
    "oov_tok = \"<OOV>\"\n",
    "training_size = 20000\n",
    "\n",
    "\n",
    "with open(\"/tmp/sarcasm.json\", 'r') as f:\n",
    "    datastore = json.load(f)\n",
    "\n",
    "\n",
    "sentences = []\n",
    "labels = []\n",
    "urls = []\n",
    "for item in datastore:\n",
    "    sentences.append(item['headline'])\n",
    "    labels.append(item['is_sarcastic'])\n",
    "\n",
    "training_sentences = sentences[0:training_size]\n",
    "testing_sentences = sentences[training_size:]\n",
    "training_labels = labels[0:training_size]\n",
    "testing_labels = labels[training_size:]\n",
    "\n",
    "tokenizer = Tokenizer(num_words=vocab_size, oov_token=oov_tok)\n",
    "tokenizer.fit_on_texts(training_sentences)\n",
    "\n",
    "word_index = tokenizer.word_index\n",
    "\n",
    "training_sequences = tokenizer.texts_to_sequences(training_sentences)\n",
    "training_padded = pad_sequences(training_sequences, maxlen=max_length, padding=padding_type, truncating=trunc_type)\n",
    "\n",
    "testing_sequences = tokenizer.texts_to_sequences(testing_sentences)\n",
    "testing_padded = pad_sequences(testing_sequences, maxlen=max_length, padding=padding_type, truncating=trunc_type)\n",
    "\n",
    "model = tf.keras.Sequential([\n",
    "    tf.keras.layers.Embedding(vocab_size, embedding_dim, input_length=max_length),\n",
    "    tf.keras.layers.Bidirectional(tf.keras.layers.LSTM(32)),\n",
    "    tf.keras.layers.Dense(24, activation='relu'),\n",
    "    tf.keras.layers.Dense(1, activation='sigmoid')\n",
    "])\n",
    "model.compile(loss='binary_crossentropy',optimizer='adam',metrics=['accuracy'])\n",
    "model.summary()\n",
    "\n",
    "num_epochs = 50\n",
    "training_padded = np.array(training_padded)\n",
    "training_labels = np.array(training_labels)\n",
    "testing_padded = np.array(testing_padded)\n",
    "testing_labels = np.array(testing_labels)\n",
    "history = model.fit(training_padded, training_labels, epochs=num_epochs, validation_data=(testing_padded, testing_labels), verbose=1)\n"
   ]
  },
  {
   "cell_type": "code",
   "execution_count": 2,
   "metadata": {
    "colab": {
     "base_uri": "https://localhost:8080/",
     "height": 541
    },
    "id": "g9DC6dmLF8DC",
    "outputId": "67ffbb26-102d-4937-abc2-b656cfacf315"
   },
   "outputs": [
    {
     "data": {
      "image/png": "[encoded data removed]",
      "text/plain": [
       "<Figure size 432x288 with 1 Axes>"
      ]
     },
     "metadata": {
      "needs_background": "light",
      "tags": []
     },
     "output_type": "display_data"
    },
    {
     "data": {
      "image/png": "[encoded data removed]",
      "text/plain": [
       "<Figure size 432x288 with 1 Axes>"
      ]
     },
     "metadata": {
      "needs_background": "light",
      "tags": []
     },
     "output_type": "display_data"
    }
   ],
   "source": [
    "import matplotlib.pyplot as plt\n",
    "\n",
    "\n",
    "def plot_graphs(history, string):\n",
    "    plt.plot(history.history[string])\n",
    "    plt.plot(history.history['val_'+string])\n",
    "    plt.xlabel(\"Epochs\")\n",
    "    plt.ylabel(string)\n",
    "    plt.legend([string, 'val_'+string])\n",
    "    plt.show()\n",
    "\n",
    "plot_graphs(history, 'accuracy')\n",
    "plot_graphs(history, 'loss')"
   ]
  },
  {
   "cell_type": "code",
   "execution_count": null,
   "metadata": {
    "id": "7ZEZIUppGhdi"
   },
   "outputs": [],
   "source": [
    "model.save(\"test.h5\")"
   ]
  }
 ],
 "metadata": {
  "accelerator": "GPU",
  "colab": {
   "collapsed_sections": [],
   "name": "Course 3 - Week 3 - Lesson 2.ipynb",
   "provenance": [],
   "toc_visible": true
  },
  "kernelspec": {
   "display_name": "Python 3",
   "language": "python",
   "name": "python3"
  },
  "language_info": {
   "codemirror_mode": {
    "name": "ipython",
    "version": 3
   },
   "file_extension": ".py",
   "mimetype": "text/x-python",
   "name": "python",
   "nbconvert_exporter": "python",
   "pygments_lexer": "ipython3",
   "version": "3.7.2"
  }
 },
 "nbformat": 4,
 "nbformat_minor": 1
}
