{
 "cells": [
  {
   "cell_type": "markdown",
   "metadata": {},
   "source": [
    "## Word based encodings"
   ]
  },
  {
   "cell_type": "markdown",
   "metadata": {},
   "source": [
    "A common simple character encoding is ASCII, the American Standard Code for Information Interchange with the values as shown here. So you might think you could have a word like LISTEN encoded using these values. But the problem with this of course, is that the semantics of the word aren't encoded in the letters.\n",
    "\n",
    "![1](https://user-images.githubusercontent.com/46242120/108007333-13a99c80-7041-11eb-8a9c-4bc96792fdb4.png)"
   ]
  },
  {
   "cell_type": "markdown",
   "metadata": {},
   "source": [
    "This could be demonstrated using the word 'SILENT ' which has a very different and almost opposite meaning, but with exactly the same letters. So it seems that training a neural network with just the letters could be a daunting task.\n",
    "\n",
    "![2](https://user-images.githubusercontent.com/46242120/108007459-684d1780-7041-11eb-904b-da3e3f87f9bc.png)"
   ]
  },
  {
   "cell_type": "markdown",
   "metadata": {},
   "source": [
    "What if we could give words a value and have those values used in training a network? Now we could be getting somewhere. So for example, consider this sentence, I Love my dog.\n",
    "\n",
    "![3](https://user-images.githubusercontent.com/46242120/108007592-b7934800-7041-11eb-967a-7797ea12410f.png)"
   ]
  },
  {
   "cell_type": "markdown",
   "metadata": {},
   "source": [
    "How about giving a value to each word? What that value is doesn't matter. It's just that we have a value per word, and the value is the same for the same word every time. So a simple encoding for the sentence would be for example to give word 'I' the value one.\n",
    "\n",
    "![4](https://user-images.githubusercontent.com/46242120/108007594-bb26cf00-7041-11eb-937b-2daa9fe38ad5.png)"
   ]
  },
  {
   "cell_type": "markdown",
   "metadata": {},
   "source": [
    "Following on, we could give the words 'Love', 'my' and 'dog' the values 2, 3, and 4 respectively. So then the sentence, I love my dog would be encoded as 1, 2, 3, 4. \n",
    "\n",
    "![5](https://user-images.githubusercontent.com/46242120/108007595-bbbf6580-7041-11eb-8108-1b690812d023.png)"
   ]
  },
  {
   "cell_type": "markdown",
   "metadata": {},
   "source": [
    "if I have the sentence, I love my cat? Well, we've already encoded \n",
    "the words 'I love my' as 1, 2, 3. So we can reuse those, and we can create a new token for cat, which we haven't seen before.\n",
    "\n",
    "![6](https://user-images.githubusercontent.com/46242120/108007806-325c6300-7042-11eb-9006-7ced07942ffc.png)"
   ]
  }
 ],
 "metadata": {
  "kernelspec": {
   "display_name": "Python 3",
   "language": "python",
   "name": "python3"
  },
  "language_info": {
   "codemirror_mode": {
    "name": "ipython",
    "version": 3
   },
   "file_extension": ".py",
   "mimetype": "text/x-python",
   "name": "python",
   "nbconvert_exporter": "python",
   "pygments_lexer": "ipython3",
   "version": "3.7.2"
  }
 },
 "nbformat": 4,
 "nbformat_minor": 4
}
