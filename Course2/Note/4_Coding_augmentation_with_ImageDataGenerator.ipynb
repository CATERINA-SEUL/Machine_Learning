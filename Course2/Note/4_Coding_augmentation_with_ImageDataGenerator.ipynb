{
 "cells": [
  {
   "cell_type": "markdown",
   "metadata": {},
   "source": [
    "## Coding augmentation with ImageDataGenerator\n"
   ]
  },
  {
   "cell_type": "code",
   "execution_count": 1,
   "metadata": {},
   "outputs": [],
   "source": [
    "from tensorflow.keras.preprocessing.image import ImageDataGenerator"
   ]
  },
  {
   "cell_type": "code",
   "execution_count": null,
   "metadata": {},
   "outputs": [],
   "source": [
    "train_datagen = ImageDataGenerator(rescale=1./255)\n",
    "\n",
    "train_datagen = ImageDataGenerator(\n",
    "    rescale = 1./255,\n",
    "    rotation_range = 40,\n",
    "    width_shift_range = 0.2,\n",
    "    height_shift_range = 0.2,\n",
    "    shear_range = 0.2,\n",
    "    zoom_range = 0.2,\n",
    "    horizontal_flip = True,\n",
    "    fill_mode = 'nearest'\n",
    ")"
   ]
  },
  {
   "cell_type": "markdown",
   "metadata": {},
   "source": [
    "#### width_shift_range,  height_shift_range\n",
    "\n",
    "![1](https://user-images.githubusercontent.com/46242120/107458918-67773a00-6b98-11eb-9c01-75481ddd9e9c.png)\n",
    "![2](https://user-images.githubusercontent.com/46242120/107458973-81188180-6b98-11eb-876f-ec2d6024c723.png)"
   ]
  },
  {
   "cell_type": "markdown",
   "metadata": {},
   "source": [
    "#### zoom_range\n",
    "\n",
    "![3](https://user-images.githubusercontent.com/46242120/107459209-02701400-6b99-11eb-9284-b98d4e68eed9.png)\n",
    "![4](https://user-images.githubusercontent.com/46242120/107459222-0b60e580-6b99-11eb-8b87-f610c5ec252c.png)"
   ]
  },
  {
   "cell_type": "markdown",
   "metadata": {},
   "source": [
    "#### horizontal_flip\n",
    "\n",
    "![5](https://user-images.githubusercontent.com/46242120/107459400-76122100-6b99-11eb-8e68-772017c71d7d.png)\n",
    "![6](https://user-images.githubusercontent.com/46242120/107459413-7e6a5c00-6b99-11eb-8b7c-ec29e07d686a.png)"
   ]
  }
 ],
 "metadata": {
  "kernelspec": {
   "display_name": "Python 3",
   "language": "python",
   "name": "python3"
  },
  "language_info": {
   "codemirror_mode": {
    "name": "ipython",
    "version": 3
   },
   "file_extension": ".py",
   "mimetype": "text/x-python",
   "name": "python",
   "nbconvert_exporter": "python",
   "pygments_lexer": "ipython3",
   "version": "3.7.2"
  }
 },
 "nbformat": 4,
 "nbformat_minor": 4
}
